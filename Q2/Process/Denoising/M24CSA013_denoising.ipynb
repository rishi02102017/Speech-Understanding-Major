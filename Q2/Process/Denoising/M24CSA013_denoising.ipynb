{
  "nbformat": 4,
  "nbformat_minor": 0,
  "metadata": {
    "colab": {
      "provenance": []
    },
    "kernelspec": {
      "name": "python3",
      "display_name": "Python 3"
    },
    "language_info": {
      "name": "python"
    }
  },
  "cells": [
    {
      "cell_type": "code",
      "source": [
        "#First install -> !pip install librosa==0.9.2 soundfile==0.11.0 noisereduce==3.0.0 and..\n",
        "#.. !pip install --upgrade librosa\n",
        "\n",
        "import librosa\n",
        "import soundfile as sf\n",
        "import noisereduce as nr\n",
        "\n",
        "audio_data, sample_rate = librosa.load(\"/content/denoised_audio.wav\", sr=None)\n",
        "\n",
        "reduced_noise = nr.reduce_noise(y=audio_data, sr=sample_rate)"
      ],
      "metadata": {
        "id": "drTKP1q5m2hT"
      },
      "execution_count": null,
      "outputs": []
    },
    {
      "cell_type": "code",
      "source": [
        "sf.write(\"denoised_audio.wav\", reduced_noise, sample_rate)"
      ],
      "metadata": {
        "id": "VviXU3ARnYCk"
      },
      "execution_count": null,
      "outputs": []
    }
  ]
}
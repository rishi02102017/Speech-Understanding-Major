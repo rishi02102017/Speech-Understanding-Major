{
  "nbformat": 4,
  "nbformat_minor": 0,
  "metadata": {
    "colab": {
      "provenance": []
    },
    "kernelspec": {
      "name": "python3",
      "display_name": "Python 3"
    },
    "language_info": {
      "name": "python"
    }
  },
  "cells": [
    {
      "cell_type": "code",
      "source": [
        "# First install-> !pip install SpeechRecognition==3.10.0\n",
        "\n",
        "import speech_recognition as sr\n",
        "\n",
        "r = sr.Recognizer()\n",
        "\n",
        "audio_file = sr.AudioFile(\"/content/sample_data/denoised_audio (1).wav\")\n",
        "\n",
        "with audio_file as source:\n",
        "    audio_data = r.record(source)\n",
        "    text = r.recognize_google(audio_data)\n",
        "\n",
        "print(text)\n",
        "\n",
        "with open(\"output.txt\", \"w\") as f:\n",
        "    f.write(text)\n",
        "\n",
        "print(\"Output saved to output.txt\")"
      ],
      "metadata": {
        "id": "22eyPK6lFgQl"
      },
      "execution_count": null,
      "outputs": []
    }
  ]
}